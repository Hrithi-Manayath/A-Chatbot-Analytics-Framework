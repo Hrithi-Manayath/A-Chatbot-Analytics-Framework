{
 "cells": [
  {
   "cell_type": "code",
   "execution_count": 16,
   "id": "de7b16d9-332e-4be8-8299-f86d870d9fa8",
   "metadata": {},
   "outputs": [
    {
     "name": "stdout",
     "output_type": "stream",
     "text": [
      "Collecting textblob\n",
      "  Downloading textblob-0.18.0.post0-py3-none-any.whl.metadata (4.5 kB)\n",
      "Requirement already satisfied: nltk>=3.8 in c:\\users\\asus\\anaconda3\\lib\\site-packages (from textblob) (3.8.1)\n",
      "Requirement already satisfied: click in c:\\users\\asus\\anaconda3\\lib\\site-packages (from nltk>=3.8->textblob) (8.1.7)\n",
      "Requirement already satisfied: joblib in c:\\users\\asus\\anaconda3\\lib\\site-packages (from nltk>=3.8->textblob) (1.4.2)\n",
      "Requirement already satisfied: regex>=2021.8.3 in c:\\users\\asus\\anaconda3\\lib\\site-packages (from nltk>=3.8->textblob) (2023.10.3)\n",
      "Requirement already satisfied: tqdm in c:\\users\\asus\\anaconda3\\lib\\site-packages (from nltk>=3.8->textblob) (4.66.4)\n",
      "Requirement already satisfied: colorama in c:\\users\\asus\\appdata\\roaming\\python\\python312\\site-packages (from click->nltk>=3.8->textblob) (0.4.6)\n",
      "Downloading textblob-0.18.0.post0-py3-none-any.whl (626 kB)\n",
      "   ---------------------------------------- 0.0/626.3 kB ? eta -:--:--\n",
      "    --------------------------------------- 10.2/626.3 kB ? eta -:--:--\n",
      "   -- ------------------------------------ 41.0/626.3 kB 487.6 kB/s eta 0:00:02\n",
      "   ---- ---------------------------------- 71.7/626.3 kB 558.5 kB/s eta 0:00:01\n",
      "   -------- ----------------------------- 143.4/626.3 kB 847.9 kB/s eta 0:00:01\n",
      "   -------------------------------- ------- 501.8/626.3 kB 2.4 MB/s eta 0:00:01\n",
      "   ---------------------------------------- 626.3/626.3 kB 2.8 MB/s eta 0:00:00\n",
      "Installing collected packages: textblob\n",
      "Successfully installed textblob-0.18.0.post0\n"
     ]
    }
   ],
   "source": [
    "!pip install textblob"
   ]
  },
  {
   "cell_type": "code",
   "execution_count": 17,
   "id": "cdb6eb39-eaea-4bcd-9a02-fa863c1eb1ad",
   "metadata": {},
   "outputs": [],
   "source": [
    "import pandas as pd\n",
    "import numpy as np\n",
    "from sklearn.model_selection import train_test_split\n",
    "from sklearn.feature_extraction.text import CountVectorizer, TfidfVectorizer\n",
    "from sklearn.naive_bayes import MultinomialNB\n",
    "from sklearn.metrics import accuracy_score, classification_report\n",
    "from sklearn.decomposition import LatentDirichletAllocation\n",
    "from textblob import TextBlob\n",
    "import matplotlib.pyplot as plt\n",
    "import seaborn as sns"
   ]
  },
  {
   "cell_type": "code",
   "execution_count": 18,
   "id": "1e0bd80f-36d9-466d-bb46-4a7071735cb2",
   "metadata": {},
   "outputs": [
    {
     "data": {
      "text/html": [
       "<div>\n",
       "<style scoped>\n",
       "    .dataframe tbody tr th:only-of-type {\n",
       "        vertical-align: middle;\n",
       "    }\n",
       "\n",
       "    .dataframe tbody tr th {\n",
       "        vertical-align: top;\n",
       "    }\n",
       "\n",
       "    .dataframe thead th {\n",
       "        text-align: right;\n",
       "    }\n",
       "</style>\n",
       "<table border=\"1\" class=\"dataframe\">\n",
       "  <thead>\n",
       "    <tr style=\"text-align: right;\">\n",
       "      <th></th>\n",
       "      <th>QuestionID</th>\n",
       "      <th>Question</th>\n",
       "      <th>DocumentID</th>\n",
       "      <th>DocumentTitle</th>\n",
       "      <th>SentenceID</th>\n",
       "      <th>Sentence</th>\n",
       "      <th>Label</th>\n",
       "    </tr>\n",
       "  </thead>\n",
       "  <tbody>\n",
       "    <tr>\n",
       "      <th>0</th>\n",
       "      <td>Q8</td>\n",
       "      <td>How are epithelial tissues joined together?</td>\n",
       "      <td>D8</td>\n",
       "      <td>Tissue (biology)</td>\n",
       "      <td>D8-No</td>\n",
       "      <td>Cross section of sclerenchyma fibers in plant ...</td>\n",
       "      <td>No</td>\n",
       "    </tr>\n",
       "    <tr>\n",
       "      <th>1</th>\n",
       "      <td>Q8</td>\n",
       "      <td>How are epithelial tissues joined together?</td>\n",
       "      <td>D8</td>\n",
       "      <td>Tissue (biology)</td>\n",
       "      <td>D8-Yes</td>\n",
       "      <td>Microscopic view of a histologic specimen of h...</td>\n",
       "      <td>No</td>\n",
       "    </tr>\n",
       "    <tr>\n",
       "      <th>2</th>\n",
       "      <td>Q8</td>\n",
       "      <td>How are epithelial tissues joined together?</td>\n",
       "      <td>D8</td>\n",
       "      <td>Tissue (biology)</td>\n",
       "      <td>D8-2</td>\n",
       "      <td>In Biology , Tissue is a cellular organization...</td>\n",
       "      <td>No</td>\n",
       "    </tr>\n",
       "    <tr>\n",
       "      <th>3</th>\n",
       "      <td>Q8</td>\n",
       "      <td>How are epithelial tissues joined together?</td>\n",
       "      <td>D8</td>\n",
       "      <td>Tissue (biology)</td>\n",
       "      <td>D8-3</td>\n",
       "      <td>A tissue is an ensemble of similar cells from ...</td>\n",
       "      <td>No</td>\n",
       "    </tr>\n",
       "    <tr>\n",
       "      <th>4</th>\n",
       "      <td>Q8</td>\n",
       "      <td>How are epithelial tissues joined together?</td>\n",
       "      <td>D8</td>\n",
       "      <td>Tissue (biology)</td>\n",
       "      <td>D8-4</td>\n",
       "      <td>Organs are then formed by the functional group...</td>\n",
       "      <td>No</td>\n",
       "    </tr>\n",
       "    <tr>\n",
       "      <th>...</th>\n",
       "      <td>...</td>\n",
       "      <td>...</td>\n",
       "      <td>...</td>\n",
       "      <td>...</td>\n",
       "      <td>...</td>\n",
       "      <td>...</td>\n",
       "      <td>...</td>\n",
       "    </tr>\n",
       "    <tr>\n",
       "      <th>2728</th>\n",
       "      <td>Q3NoYes8</td>\n",
       "      <td>What is St. Lucia Known for?</td>\n",
       "      <td>D2785</td>\n",
       "      <td>Saint Lucia</td>\n",
       "      <td>D2785-Yes2</td>\n",
       "      <td>Representative government came about in Yes924...</td>\n",
       "      <td>No</td>\n",
       "    </tr>\n",
       "    <tr>\n",
       "      <th>2729</th>\n",
       "      <td>Q3NoYes8</td>\n",
       "      <td>What is St. Lucia Known for?</td>\n",
       "      <td>D2785</td>\n",
       "      <td>Saint Lucia</td>\n",
       "      <td>D2785-Yes3</td>\n",
       "      <td>From Yes958 to Yes962, the island was a member...</td>\n",
       "      <td>No</td>\n",
       "    </tr>\n",
       "    <tr>\n",
       "      <th>2730</th>\n",
       "      <td>Q3NoYes8</td>\n",
       "      <td>What is St. Lucia Known for?</td>\n",
       "      <td>D2785</td>\n",
       "      <td>Saint Lucia</td>\n",
       "      <td>D2785-Yes4</td>\n",
       "      <td>On 22 February Yes979, Saint Lucia became an i...</td>\n",
       "      <td>No</td>\n",
       "    </tr>\n",
       "    <tr>\n",
       "      <th>2731</th>\n",
       "      <td>Q3NoYes8</td>\n",
       "      <td>What is St. Lucia Known for?</td>\n",
       "      <td>D2785</td>\n",
       "      <td>Saint Lucia</td>\n",
       "      <td>D2785-Yes5</td>\n",
       "      <td>The island nation celebrates this every year w...</td>\n",
       "      <td>No</td>\n",
       "    </tr>\n",
       "    <tr>\n",
       "      <th>2732</th>\n",
       "      <td>Q3NoYes8</td>\n",
       "      <td>What is St. Lucia Known for?</td>\n",
       "      <td>D2785</td>\n",
       "      <td>Saint Lucia</td>\n",
       "      <td>D2785-Yes6</td>\n",
       "      <td>It is also a member of la Francophonie .</td>\n",
       "      <td>No</td>\n",
       "    </tr>\n",
       "  </tbody>\n",
       "</table>\n",
       "<p>2733 rows × 7 columns</p>\n",
       "</div>"
      ],
      "text/plain": [
       "     QuestionID                                     Question DocumentID  \\\n",
       "0            Q8  How are epithelial tissues joined together?         D8   \n",
       "1            Q8  How are epithelial tissues joined together?         D8   \n",
       "2            Q8  How are epithelial tissues joined together?         D8   \n",
       "3            Q8  How are epithelial tissues joined together?         D8   \n",
       "4            Q8  How are epithelial tissues joined together?         D8   \n",
       "...         ...                                          ...        ...   \n",
       "2728   Q3NoYes8                 What is St. Lucia Known for?      D2785   \n",
       "2729   Q3NoYes8                 What is St. Lucia Known for?      D2785   \n",
       "2730   Q3NoYes8                 What is St. Lucia Known for?      D2785   \n",
       "2731   Q3NoYes8                 What is St. Lucia Known for?      D2785   \n",
       "2732   Q3NoYes8                 What is St. Lucia Known for?      D2785   \n",
       "\n",
       "         DocumentTitle  SentenceID  \\\n",
       "0     Tissue (biology)       D8-No   \n",
       "1     Tissue (biology)      D8-Yes   \n",
       "2     Tissue (biology)        D8-2   \n",
       "3     Tissue (biology)        D8-3   \n",
       "4     Tissue (biology)        D8-4   \n",
       "...                ...         ...   \n",
       "2728       Saint Lucia  D2785-Yes2   \n",
       "2729       Saint Lucia  D2785-Yes3   \n",
       "2730       Saint Lucia  D2785-Yes4   \n",
       "2731       Saint Lucia  D2785-Yes5   \n",
       "2732       Saint Lucia  D2785-Yes6   \n",
       "\n",
       "                                               Sentence Label  \n",
       "0     Cross section of sclerenchyma fibers in plant ...    No  \n",
       "1     Microscopic view of a histologic specimen of h...    No  \n",
       "2     In Biology , Tissue is a cellular organization...    No  \n",
       "3     A tissue is an ensemble of similar cells from ...    No  \n",
       "4     Organs are then formed by the functional group...    No  \n",
       "...                                                 ...   ...  \n",
       "2728  Representative government came about in Yes924...    No  \n",
       "2729  From Yes958 to Yes962, the island was a member...    No  \n",
       "2730  On 22 February Yes979, Saint Lucia became an i...    No  \n",
       "2731  The island nation celebrates this every year w...    No  \n",
       "2732           It is also a member of la Francophonie .    No  \n",
       "\n",
       "[2733 rows x 7 columns]"
      ]
     },
     "execution_count": 18,
     "metadata": {},
     "output_type": "execute_result"
    }
   ],
   "source": [
    "# Convert to DataFrame\n",
    "df = pd.read_csv(\"WikiQA-dev.csv\")\n",
    "df"
   ]
  },
  {
   "cell_type": "code",
   "execution_count": 19,
   "id": "8ea2a624-c9a2-485c-bd6c-93f35ea33b2c",
   "metadata": {},
   "outputs": [],
   "source": [
    "# Step 2: Data Preprocessing\n",
    "def preprocess_text(text):\n",
    "    text = text.lower()\n",
    "    text = ''.join([char for char in text if char.isalnum() or char.isspace()])\n",
    "    return text\n",
    "\n",
    "# Apply preprocessing to the 'Sentence' column\n",
    "df['processed_sentence'] = df['Sentence'].apply(preprocess_text)"
   ]
  },
  {
   "cell_type": "code",
   "execution_count": 20,
   "id": "0308b13f-eaea-4bcc-a494-2c74e830a95f",
   "metadata": {},
   "outputs": [
    {
     "data": {
      "image/png": "[encoded data removed]",
      "text/plain": [
       "<Figure size 800x500 with 1 Axes>"
      ]
     },
     "metadata": {},
     "output_type": "display_data"
    }
   ],
   "source": [
    "# Step 3: Exploratory Data Analysis (EDA)\n",
    "def plot_label_distribution(df):\n",
    "    plt.figure(figsize=(8, 5))\n",
    "    sns.countplot(x='Label', data=df, order=df['Label'].value_counts().index)\n",
    "    plt.title(\"Label Distribution\")\n",
    "    plt.show()\n",
    "\n",
    "plot_label_distribution(df)"
   ]
  },
  {
   "cell_type": "code",
   "execution_count": 21,
   "id": "8ec95b2d-4fab-4380-9cbe-fea80274bfed",
   "metadata": {},
   "outputs": [],
   "source": [
    "# Step 4: Sentiment Analysis\n",
    "# Add a new column for sentiment analysis using TextBlob\n",
    "def get_sentiment(text):\n",
    "    analysis = TextBlob(text)\n",
    "    return \"positive\" if analysis.sentiment.polarity > 0 else \"negative\"\n",
    "\n",
    "df['sentiment'] = df['Sentence'].apply(get_sentiment)"
   ]
  },
  {
   "cell_type": "code",
   "execution_count": 22,
   "id": "3d41940b-0657-47c9-91ca-2c2ffdac66d8",
   "metadata": {},
   "outputs": [
    {
     "name": "stdout",
     "output_type": "stream",
     "text": [
      "Top words per topic:\n",
      "Topic 0: area, released, city, state, american\n",
      "Topic 1: season, federal, world, united, states\n"
     ]
    }
   ],
   "source": [
    "# Step 5: Topic Modeling (Optional)\n",
    "# Using TfidfVectorizer for topic modeling\n",
    "vectorizer = TfidfVectorizer(stop_words='english')\n",
    "X_topics = vectorizer.fit_transform(df['processed_sentence'])\n",
    "\n",
    "from sklearn.decomposition import LatentDirichletAllocation\n",
    "\n",
    "lda = LatentDirichletAllocation(n_components=2, random_state=42)\n",
    "lda.fit(X_topics)\n",
    "\n",
    "print(\"Top words per topic:\")\n",
    "for idx, topic in enumerate(lda.components_):\n",
    "    print(f\"Topic {idx}: {', '.join([vectorizer.get_feature_names_out()[i] for i in topic.argsort()[-5:]])}\")\n"
   ]
  },
  {
   "cell_type": "code",
   "execution_count": 23,
   "id": "f0282a21-ccb2-450b-a96d-5ddf8b4e8238",
   "metadata": {},
   "outputs": [
    {
     "name": "stdout",
     "output_type": "stream",
     "text": [
      "Accuracy: 0.9414990859232175\n",
      "Classification Report:\n",
      "               precision    recall  f1-score   support\n",
      "\n",
      "          No       0.96      0.98      0.97       522\n",
      "         Yes       0.11      0.04      0.06        25\n",
      "\n",
      "    accuracy                           0.94       547\n",
      "   macro avg       0.53      0.51      0.51       547\n",
      "weighted avg       0.92      0.94      0.93       547\n",
      "\n"
     ]
    }
   ],
   "source": [
    "# Step 6: Intent Detection (Machine Learning Model)\n",
    "X = df['processed_sentence']\n",
    "y = df['Label']\n",
    "\n",
    "# Vectorize the text data\n",
    "vectorizer = CountVectorizer()\n",
    "X_vectorized = vectorizer.fit_transform(X)\n",
    "\n",
    "# Split into training and test sets\n",
    "X_train, X_test, y_train, y_test = train_test_split(X_vectorized, y, test_size=0.2, random_state=42)\n",
    "\n",
    "# Train the Naive Bayes model\n",
    "model = MultinomialNB()\n",
    "model.fit(X_train, y_train)\n",
    "\n",
    "# Make predictions\n",
    "y_pred = model.predict(X_test)\n",
    "\n",
    "# Evaluation\n",
    "print(\"Accuracy:\", accuracy_score(y_test, y_pred))\n",
    "print(\"Classification Report:\\n\", classification_report(y_test, y_pred))"
   ]
  },
  {
   "cell_type": "code",
   "execution_count": 24,
   "id": "52b901c1-76a6-4ba9-9f68-3c579e414801",
   "metadata": {},
   "outputs": [
    {
     "name": "stdout",
     "output_type": "stream",
     "text": [
      "Model ready for iterative improvements.\n"
     ]
    }
   ],
   "source": [
    "# Step 7: Optimization Loop (Simulated)\n",
    "# Add feedback-based improvements or tune model hyperparameters.\n",
    "print(\"Model ready for iterative improvements.\")"
   ]
  },
  {
   "cell_type": "code",
   "execution_count": null,
   "id": "9d025be2-c8e3-4c51-b942-9435161ebb2c",
   "metadata": {},
   "outputs": [],
   "source": []
  },
  {
   "cell_type": "code",
   "execution_count": null,
   "id": "26f41445-876d-4f06-9eda-42ffc1209d7f",
   "metadata": {},
   "outputs": [],
   "source": []
  }
 ],
 "metadata": {
  "kernelspec": {
   "display_name": "Python 3 (ipykernel)",
   "language": "python",
   "name": "python3"
  },
  "language_info": {
   "codemirror_mode": {
    "name": "ipython",
    "version": 3
   },
   "file_extension": ".py",
   "mimetype": "text/x-python",
   "name": "python",
   "nbconvert_exporter": "python",
   "pygments_lexer": "ipython3",
   "version": "3.12.4"
  }
 },
 "nbformat": 4,
 "nbformat_minor": 5
}
